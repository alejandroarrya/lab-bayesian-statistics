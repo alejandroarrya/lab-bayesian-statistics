{
 "cells": [
  {
   "cell_type": "markdown",
   "metadata": {},
   "source": [
    "# Intro to Bayesian Statistics Lab\n",
    "\n",
    "Complete the following set of exercises to solidify your knowledge of Bayesian statistics and Bayesian data analysis."
   ]
  },
  {
   "cell_type": "code",
   "execution_count": 1,
   "metadata": {},
   "outputs": [],
   "source": [
    "import pandas as pd\n",
    "import numpy as np\n",
    "import matplotlib.pyplot as plt"
   ]
  },
  {
   "cell_type": "markdown",
   "metadata": {},
   "source": [
    "## 1. Cookie Problem\n",
    "\n",
    "Suppose we have two bowls of cookies. Bowl 1 contains 30 vanilla cookies and 10 chocolate cookies. Bowl 2 contains 20 of each. You randomly pick one cookie out of one of the bowls, and it is vanilla. Use Bayes Theorem to calculate the probability that the vanilla cookie you picked came from Bowl 1?"
   ]
  },
  {
   "cell_type": "code",
   "execution_count": 23,
   "metadata": {},
   "outputs": [
    {
     "name": "stdout",
     "output_type": "stream",
     "text": [
      "The probability that the vanilla cookie comes from Bowl 1 is: 60%\n"
     ]
    }
   ],
   "source": [
    "prob_b1_vanilla = (.5)*(.75)\n",
    "prob_b2_vanilla = (.5)*(.5)\n",
    "\n",
    "prob_vanilla_b1 = (prob_b1_vanilla) / (prob_b1_vanilla + prob_b2_vanilla)\n",
    "\n",
    "print('The probability that the vanilla cookie comes from Bowl 1 is: {0:.0%}'.format(prob_vanilla_b1))"
   ]
  },
  {
   "cell_type": "markdown",
   "metadata": {},
   "source": [
    "What is the probability that it came from Bowl 2?"
   ]
  },
  {
   "cell_type": "code",
   "execution_count": 25,
   "metadata": {},
   "outputs": [
    {
     "name": "stdout",
     "output_type": "stream",
     "text": [
      "The probability that the vanilla cookie comes from Bowl 1 is: 40%\n"
     ]
    }
   ],
   "source": [
    "prob_b1_vanilla = (.5)*(.75)\n",
    "prob_b2_vanilla = (.5)*(.5)\n",
    "\n",
    "prob_vanilla_b2 = (prob_b2_vanilla) / (prob_b1_vanilla + prob_b2_vanilla)\n",
    "\n",
    "print('The probability that the vanilla cookie comes from Bowl 1 is: {0:.0%}'.format(prob_vanilla_b2))"
   ]
  },
  {
   "cell_type": "markdown",
   "metadata": {},
   "source": [
    "What if the cookie you had picked was chocolate? What are the probabilities that the chocolate cookie came from Bowl 1 and Bowl 2 respectively?"
   ]
  },
  {
   "cell_type": "code",
   "execution_count": 27,
   "metadata": {},
   "outputs": [
    {
     "name": "stdout",
     "output_type": "stream",
     "text": [
      "The probability that the chocolate cookie comes from Bowl 1 is: 33%\n",
      "The probability that the chocolate cookie comes from Bowl 1 is: 67%\n"
     ]
    }
   ],
   "source": [
    "prob_b1_choc = (.5)*(.25)\n",
    "prob_b2_choc = (.5)*(.5)\n",
    "\n",
    "prob_choc_b1 = (prob_b1_choc) / (prob_b1_choc + prob_b2_choc)\n",
    "\n",
    "print('The probability that the chocolate cookie comes from Bowl 1 is: {0:.0%}'.format(prob_choc_b1))\n",
    "\n",
    "prob_b1_choc = (.5)*(.25)\n",
    "prob_b2_choc = (.5)*(.5)\n",
    "\n",
    "prob_choc_b2 = (prob_b2_choc) / (prob_b1_choc + prob_b2_choc)\n",
    "\n",
    "print('The probability that the chocolate cookie comes from Bowl 1 is: {0:.0%}'.format(prob_choc_b2))"
   ]
  },
  {
   "cell_type": "markdown",
   "metadata": {},
   "source": [
    "## 2. Candy Problem\n",
    "\n",
    "Suppose you have two bags of candies:\n",
    "\n",
    "- In Bag 1, the mix of colors is:\n",
    "    - Brown - 30%\n",
    "    - Yellow - 20%\n",
    "    - Red - 20%\n",
    "    - Green - 10%\n",
    "    - Orange - 10%\n",
    "    - Tan - 10%\n",
    "    \n",
    "- In Bag 2, the mix of colors is:\n",
    "    - Blue - 24%\n",
    "    - Green - 20%\n",
    "    - Orange - 16%\n",
    "    - Yellow - 14%\n",
    "    - Red - 13%\n",
    "    - Brown - 13%\n",
    "    \n",
    "Not knowing which bag is which, you randomly draw one candy from each bag. One is yellow and one is green. What is the probability that the yellow one came from the Bag 1?\n",
    "\n",
    "*Hint: For the likelihoods, you will need to multiply the probabilities of drawing yellow from one bag and green from the other bag and vice versa.*"
   ]
  },
  {
   "cell_type": "code",
   "execution_count": 47,
   "metadata": {},
   "outputs": [
    {
     "name": "stdout",
     "output_type": "stream",
     "text": [
      "The probability that the yellow candy comes from Bag 1 (and the green candy from Bag 2) is approximately: 39%\n"
     ]
    }
   ],
   "source": [
    "prob_b1_yellow = (.5)*(.20)\n",
    "prob_b2_yellow = (.5)*(.14)\n",
    "prob_b1_green = (.5)*(.10)\n",
    "prob_b2_green = (.5)*(.20)\n",
    "\n",
    "\n",
    "prob_yellow_b1 = (prob_b1_yellow) / (prob_b1_yellow + prob_b2_yellow)\n",
    "prob_green_b2 = (prob_b2_green) / (prob_b1_green + prob_b2_green)\n",
    "\n",
    "prob_combined_yb1 = prob_yellow_b1 * prob_green_b2\n",
    "\n",
    "print('The probability that the yellow candy comes from Bag 1 (and the green candy from Bag 2) is approximately: {0:.0%}'.format(prob_combined_yb1))"
   ]
  },
  {
   "cell_type": "markdown",
   "metadata": {},
   "source": [
    "What is the probability that the yellow candy came from Bag 2?"
   ]
  },
  {
   "cell_type": "code",
   "execution_count": 43,
   "metadata": {},
   "outputs": [
    {
     "name": "stdout",
     "output_type": "stream",
     "text": [
      "The probability that the yellow candy comes from Bag 2 (and the green candy from Bag 1) is approximately: 61%\n"
     ]
    }
   ],
   "source": [
    "prob_combined_yb2 = 1 - prob_combined_yb1\n",
    "\n",
    "print('The probability that the yellow candy comes from Bag 2 (and the green candy from Bag 1) is approximately: {0:.0%}'.format(prob_combined_yb2))"
   ]
  },
  {
   "cell_type": "markdown",
   "metadata": {},
   "source": [
    "What are the probabilities that the green one came from Bag 1 and Bag 2 respectively?"
   ]
  },
  {
   "cell_type": "code",
   "execution_count": 45,
   "metadata": {},
   "outputs": [
    {
     "name": "stdout",
     "output_type": "stream",
     "text": [
      "The probability that the green candy comes from Bag 1 (and the yellow candy from Bag 2) is approximately: 14%\n",
      "The probability that the green candy comes from Bag 2 (and the yellow candy from Bag 1) is approximately: 86%\n"
     ]
    }
   ],
   "source": [
    "prob_green_b1 = (prob_b1_green) / (prob_b1_green + prob_b2_green)\n",
    "prob_yellow_b2 = (prob_b2_yellow) / (prob_b1_yellow + prob_b2_yellow)\n",
    "\n",
    "prob_combined_gb1 = prob_green_b1 * prob_yellow_b2  \n",
    "prob_combined_gb2 = 1 - prob_combined_gb1\n",
    "\n",
    "print('The probability that the green candy comes from Bag 1 (and the yellow candy from Bag 2) is approximately: {0:.0%}'.format(prob_combined_gb1))\n",
    "print('The probability that the green candy comes from Bag 2 (and the yellow candy from Bag 1) is approximately: {0:.0%}'.format(prob_combined_gb2))"
   ]
  },
  {
   "cell_type": "markdown",
   "metadata": {},
   "source": [
    "## 3. Monty Hall Problem\n",
    "\n",
    "Suppose you are a contestant on the popular game show *Let's Make a Deal*. The host of the show (Monty Hall) presents you with three doors - Door A, Door B, and Door C. He tells you that there is a sports car behind one of them and if you choose the correct one, you win the car!\n",
    "\n",
    "You select Door A, but then Monty makes things a little more interesting. He opens Door B to reveal that there is no sports car behind it and asks you if you would like to stick with your choice of Door A or switch your choice to Door C. Given this new information, what are the probabilities of you winning the car if you stick with Door A versus if you switch to Door C?"
   ]
  },
  {
   "cell_type": "code",
   "execution_count": 49,
   "metadata": {},
   "outputs": [
    {
     "name": "stdout",
     "output_type": "stream",
     "text": [
      "The probability of winnning the car if we stick with Door A is 1/3. If we switch, the probability of winning the car is 2/3.\n"
     ]
    }
   ],
   "source": [
    "print('The probability of winnning the car if we stick with Door A is 1/3. If we switch, the probability of winning the car is 2/3.')"
   ]
  },
  {
   "cell_type": "markdown",
   "metadata": {},
   "source": [
    "## 4. Bayesian Analysis \n",
    "\n",
    "Suppose you work for a landscaping company, and they want to advertise their service online. They create an ad and sit back waiting for the money to roll in. On the first day, the ad sends 100 visitors to the site and 14 of them sign up for landscaping services. Create a generative model to come up with the posterior distribution and produce a visualization of what the posterior distribution would look like given the observed data."
   ]
  },
  {
   "cell_type": "code",
   "execution_count": 52,
   "metadata": {},
   "outputs": [
    {
     "data": {
      "image/png": "[encoded data removed]",
      "text/plain": [
       "<Figure size 432x288 with 1 Axes>"
      ]
     },
     "metadata": {
      "needs_background": "light"
     },
     "output_type": "display_data"
    }
   ],
   "source": [
    "n_draws = 100000\n",
    "prior = pd.Series(np.random.uniform(0, 1, size=n_draws))\n",
    "prior.hist();"
   ]
  },
  {
   "cell_type": "markdown",
   "metadata": {},
   "source": [
    "Produce a set of descriptive statistics for the posterior distribution."
   ]
  },
  {
   "cell_type": "code",
   "execution_count": 54,
   "metadata": {},
   "outputs": [
    {
     "data": {
      "image/png": "[encoded data removed]",
      "text/plain": [
       "<Figure size 432x288 with 1 Axes>"
      ]
     },
     "metadata": {
      "needs_background": "light"
     },
     "output_type": "display_data"
    }
   ],
   "source": [
    "visitors = 100\n",
    "buyers = 14\n",
    "\n",
    "def generative_model(param):\n",
    "    result = np.random.binomial(visitors, param)\n",
    "    return result\n",
    "\n",
    "sim_data = list()\n",
    "\n",
    "for p in prior:\n",
    "    sim_data.append(generative_model(p))\n",
    "    \n",
    "posterior = prior[list(map(lambda x: x == buyers, sim_data))]\n",
    "posterior.hist();"
   ]
  },
  {
   "cell_type": "code",
   "execution_count": 55,
   "metadata": {},
   "outputs": [
    {
     "data": {
      "text/plain": [
       "count    1030.000000\n",
       "mean        0.146698\n",
       "std         0.034386\n",
       "min         0.047836\n",
       "25%         0.120927\n",
       "50%         0.143387\n",
       "75%         0.168666\n",
       "max         0.271157\n",
       "dtype: float64"
      ]
     },
     "execution_count": 55,
     "metadata": {},
     "output_type": "execute_result"
    }
   ],
   "source": [
    "posterior.describe()"
   ]
  },
  {
   "cell_type": "markdown",
   "metadata": {},
   "source": [
    "What is the 90% credible interval range?"
   ]
  },
  {
   "cell_type": "code",
   "execution_count": 56,
   "metadata": {},
   "outputs": [
    {
     "name": "stdout",
     "output_type": "stream",
     "text": [
      "0.08871044899041329 | 0.21992702217737195\n"
     ]
    }
   ],
   "source": [
    "print(posterior.quantile(.025), '|', posterior.quantile(.975))"
   ]
  },
  {
   "cell_type": "markdown",
   "metadata": {},
   "source": [
    "What is the Maximum Likelihood Estimate?"
   ]
  },
  {
   "cell_type": "code",
   "execution_count": 58,
   "metadata": {},
   "outputs": [
    {
     "name": "stdout",
     "output_type": "stream",
     "text": [
      "Maximum Likelihood Estimate:  0.14 | 0.1145631067961165\n"
     ]
    }
   ],
   "source": [
    "rounded = posterior.round(2)\n",
    "mode = rounded.mode()[0]\n",
    "probability = list(rounded).count(mode)/len(rounded)\n",
    "print('Maximum Likelihood Estimate: ', mode, '|',probability)"
   ]
  }
 ],
 "metadata": {
  "kernelspec": {
   "display_name": "Python 3",
   "language": "python",
   "name": "python3"
  },
  "language_info": {
   "codemirror_mode": {
    "name": "ipython",
    "version": 3
   },
   "file_extension": ".py",
   "mimetype": "text/x-python",
   "name": "python",
   "nbconvert_exporter": "python",
   "pygments_lexer": "ipython3",
   "version": "3.7.3"
  }
 },
 "nbformat": 4,
 "nbformat_minor": 2
}
